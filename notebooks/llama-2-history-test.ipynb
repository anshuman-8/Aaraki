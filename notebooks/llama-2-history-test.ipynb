{
 "cells": [
  {
   "cell_type": "markdown",
   "metadata": {},
   "source": [
    "# Llama -2 RAG on IX History text"
   ]
  },
  {
   "cell_type": "markdown",
   "metadata": {},
   "source": [
    "## Package Import"
   ]
  },
  {
   "cell_type": "code",
   "execution_count": 10,
   "metadata": {},
   "outputs": [],
   "source": [
    "import os\n",
    "import torch\n",
    "import pinecone\n",
    "from tqdm import tqdm\n",
    "\n",
    "from langchain.vectorstores import Pinecone\n",
    "from langchain.llms import HuggingFacePipeline\n",
    "from langchain.embeddings.huggingface import HuggingFaceEmbeddings\n",
    "from langchain.text_splitter import RecursiveCharacterTextSplitter\n",
    "from langchain.document_loaders import UnstructuredPDFLoader, PyPDFDirectoryLoader, PyPDFLoader\n",
    "\n",
    "\n"
   ]
  },
  {
   "cell_type": "code",
   "execution_count": 2,
   "metadata": {},
   "outputs": [
    {
     "name": "stdout",
     "output_type": "stream",
     "text": [
      "cuda\n"
     ]
    }
   ],
   "source": [
    "device = \"cuda\" if torch.cuda.is_available() else \"cpu\"\n",
    "print(device)"
   ]
  },
  {
   "cell_type": "code",
   "execution_count": 2,
   "metadata": {},
   "outputs": [
    {
     "name": "stdout",
     "output_type": "stream",
     "text": [
      "Sun Oct  1 10:00:36 2023       \n",
      "+---------------------------------------------------------------------------------------+\n",
      "| NVIDIA-SMI 530.30.02              Driver Version: 530.30.02    CUDA Version: 12.1     |\n",
      "|-----------------------------------------+----------------------+----------------------+\n",
      "| GPU  Name                  Persistence-M| Bus-Id        Disp.A | Volatile Uncorr. ECC |\n",
      "| Fan  Temp  Perf            Pwr:Usage/Cap|         Memory-Usage | GPU-Util  Compute M. |\n",
      "|                                         |                      |               MIG M. |\n",
      "|=========================================+======================+======================|\n",
      "|   0  NVIDIA GeForce RTX 3090         On | 00000000:17:00.0 Off |                  N/A |\n",
      "| 30%   45C    P8               22W / 350W|  16802MiB / 24576MiB |      0%      Default |\n",
      "|                                         |                      |                  N/A |\n",
      "+-----------------------------------------+----------------------+----------------------+\n",
      "                                                                                         \n",
      "+---------------------------------------------------------------------------------------+\n",
      "| Processes:                                                                            |\n",
      "|  GPU   GI   CI        PID   Type   Process name                            GPU Memory |\n",
      "|        ID   ID                                                             Usage      |\n",
      "|=======================================================================================|\n",
      "|    0   N/A  N/A      1357      G   /usr/lib/xorg/Xorg                            9MiB |\n",
      "|    0   N/A  N/A      1568      G   /usr/bin/gnome-shell                          6MiB |\n",
      "|    0   N/A  N/A    491176      C   ...an/workspace/Aaraki/venv/bin/python     8288MiB |\n",
      "|    0   N/A  N/A    518817      C   ...an/workspace/Aaraki/venv/bin/python     8494MiB |\n",
      "+---------------------------------------------------------------------------------------+\n"
     ]
    }
   ],
   "source": [
    "!nvidia-smi"
   ]
  },
  {
   "cell_type": "markdown",
   "metadata": {},
   "source": [
    "## Prepare Llama-2 model"
   ]
  },
  {
   "cell_type": "code",
   "execution_count": 4,
   "metadata": {},
   "outputs": [
    {
     "name": "stderr",
     "output_type": "stream",
     "text": [
      "/home/anshuman/workspace/Aaraki/venv/lib/python3.8/site-packages/transformers/modeling_utils.py:2193: FutureWarning: The `use_auth_token` argument is deprecated and will be removed in v5 of Transformers.\n",
      "  warnings.warn(\n",
      "Loading checkpoint shards: 100%|██████████| 3/3 [00:05<00:00,  1.84s/it]\n"
     ]
    },
    {
     "name": "stdout",
     "output_type": "stream",
     "text": [
      "Model loaded on cuda\n"
     ]
    }
   ],
   "source": [
    "from torch import bfloat16\n",
    "import transformers\n",
    "\n",
    "model_id = 'meta-llama/Llama-2-13b-chat-hf'\n",
    "\n",
    "bnb_config = transformers.BitsAndBytesConfig(\n",
    "    load_in_4bit=True,\n",
    "    bnb_4bit_quant_type='nf4',\n",
    "    bnb_4bit_use_double_quant=True,\n",
    "    bnb_4bit_compute_dtype=bfloat16\n",
    ")\n",
    "\n",
    "hf_auth = os.environ.get('HUGGINGFACE_ENV') or 'HUGGINGFACE_ENV'\n",
    "model_config = transformers.AutoConfig.from_pretrained(\n",
    "    model_id,\n",
    "    use_auth_token=hf_auth\n",
    ")\n",
    "\n",
    "model = transformers.AutoModelForCausalLM.from_pretrained(\n",
    "    model_id,\n",
    "    trust_remote_code=True,\n",
    "    config=model_config,\n",
    "    quantization_config=bnb_config,\n",
    "    device_map='auto',\n",
    "    use_auth_token=hf_auth,\n",
    "    resume_download = True\n",
    "\n",
    ")\n",
    "model.eval()\n",
    "print(f\"Model loaded on {device}\")"
   ]
  },
  {
   "cell_type": "code",
   "execution_count": 5,
   "metadata": {},
   "outputs": [
    {
     "name": "stderr",
     "output_type": "stream",
     "text": [
      "/home/anshuman/workspace/Aaraki/venv/lib/python3.8/site-packages/transformers/tokenization_utils_base.py:1714: FutureWarning: The `use_auth_token` argument is deprecated and will be removed in v5 of Transformers.\n",
      "  warnings.warn(\n"
     ]
    }
   ],
   "source": [
    "tokenizer = transformers.AutoTokenizer.from_pretrained(\n",
    "    model_id,\n",
    "    use_auth_token=hf_auth\n",
    ")"
   ]
  },
  {
   "cell_type": "markdown",
   "metadata": {},
   "source": [
    "## Prepare Embedding Object"
   ]
  },
  {
   "cell_type": "code",
   "execution_count": 6,
   "metadata": {},
   "outputs": [],
   "source": [
    "embed_model_id = 'sentence-transformers/all-MiniLM-L6-v2'\n",
    "\n",
    "embed_model = HuggingFaceEmbeddings(\n",
    "    model_name = embed_model_id,\n",
    "    model_kwargs = {'device': device},\n",
    "    # encode_kwargs = {'device':device, 'batch_size':32}\n",
    ")"
   ]
  },
  {
   "cell_type": "code",
   "execution_count": 7,
   "metadata": {},
   "outputs": [
    {
     "name": "stdout",
     "output_type": "stream",
     "text": [
      "We have 2 doc embeddings, each with a dimensionality of 384.\n"
     ]
    }
   ],
   "source": [
    "# test embedding\n",
    "docs = [\n",
    "    \"Kill him a and all that it takes\",\n",
    "    \"why is he like that?\"\n",
    "]\n",
    "\n",
    "embeddings = embed_model.embed_documents(docs)\n",
    "\n",
    "print(f\"We have {len(embeddings)} doc embeddings, each with \"\n",
    "      f\"a dimensionality of {len(embeddings[0])}.\")"
   ]
  },
  {
   "cell_type": "markdown",
   "metadata": {},
   "source": [
    "## Pinecone (Vector DB)"
   ]
  },
  {
   "cell_type": "code",
   "execution_count": 8,
   "metadata": {},
   "outputs": [],
   "source": [
    "\n",
    "\n",
    "# get API key from app.pinecone.io and environment from console\n",
    "pinecone.init(\n",
    "    api_key = os.environ.get('PINECONE_API_KEY') or 'PINECONE_API_KEY',\n",
    "    environment = os.environ.get('PINECONE_ENV') or 'PINECONE_ENV',\n",
    ")"
   ]
  },
  {
   "cell_type": "markdown",
   "metadata": {},
   "source": [
    "#### Initiate Pinecone Index"
   ]
  },
  {
   "cell_type": "code",
   "execution_count": 9,
   "metadata": {},
   "outputs": [],
   "source": [
    "import time\n",
    "\n",
    "index_name = 'ix-history-2'\n",
    "\n",
    "if index_name not in pinecone.list_indexes():\n",
    "  pinecone.create_index(\n",
    "      index_name,\n",
    "      dimension=len(embeddings[0]),\n",
    "      metric='cosine'\n",
    "  )\n",
    "\n",
    "  while not pinecone.describe_index(index_name).status['ready']:\n",
    "    time.sleep(1)\n",
    "\n",
    "  print(\"Index Ready\")"
   ]
  },
  {
   "cell_type": "code",
   "execution_count": 10,
   "metadata": {},
   "outputs": [
    {
     "data": {
      "text/plain": [
       "{'dimension': 384,\n",
       " 'index_fullness': 0.00402,\n",
       " 'namespaces': {'': {'vector_count': 402}},\n",
       " 'total_vector_count': 402}"
      ]
     },
     "execution_count": 10,
     "metadata": {},
     "output_type": "execute_result"
    }
   ],
   "source": [
    "index = pinecone.Index(index_name)\n",
    "index.describe_index_stats()"
   ]
  },
  {
   "cell_type": "markdown",
   "metadata": {},
   "source": [
    "#### Loading Raw data"
   ]
  },
  {
   "cell_type": "code",
   "execution_count": 13,
   "metadata": {},
   "outputs": [
    {
     "name": "stdout",
     "output_type": "stream",
     "text": [
      "[Document(page_content='Socialism in Europe and the Russian Revolution\\n25Socialism in Europe andSocialism in Europe andSocialism in Europe andSocialism in Europe andSocialism in Europe and\\nthe Russian Revolutionthe Russian Revolutionthe Russian Revolutionthe Russian Revolutionthe Russian Revolution\\n1  The Age of Social Change\\nIn the previous chapter you read about the powerful ideas of freedom\\nand equality that circulated in Europe after the French Revolution.\\nThe French Revolution opened up the possibility of creating a\\ndramatic change in the way in which society was structured. As you\\nhave read, before the eighteenth century society was broadly divided\\ninto estates and orders and it was the aristocracy and church which\\ncontrolled economic and social power. Suddenly, after the revolution,\\nit seemed possible to change this. In many parts of the world including\\nEurope and Asia, new ideas about individual rights and who\\ncontrolled social power began to be discussed. In India, Raja\\nRammohan Roy and Derozio talked of the significance of the French\\nRevolution, and many others debated the ideas of post-revolutionary\\nEurope. The developments in the colonies, in turn, reshaped these\\nideas of societal change.\\nNot everyone in Europe, however, wanted a complete transformation\\nof society. Responses varied from those who accepted that some\\nchange was necessary but wished for a gradual shift, to those who\\nwanted to restructure society radically. Some were ‘conservatives’,\\nothers were ‘liberals’ or ‘radicals’. What did these terms really mean\\nin the context of the time? What separated these strands of politics\\nand what linked them together? We must remember that these terms\\ndo not mean the same thing in all contexts or at all times.\\nWe will look briefly at some of the important political traditions of\\nthe nineteenth century, and see how they influenced change. Then\\nwe will focus on one historical event in which there was an attempt\\nat a radical transformation of society. Through the revolution in\\nRussia, socialism became one of the most significant and powerful\\nideas to shape society in the twentieth century.\\n1.1 Liberals, Radicals and Conservatives\\nOne of the groups which looked to change society were the liberals.\\nLiberals wanted a nation which tolerated all religions. We should\\nremember that at this time European states usually discriminated in\\nSociali sm in Eur ope and the Ru ssian Re volution Chapter II\\nRationalised 2023-24\\n', metadata={'source': '../datasets/Social/iess302.pdf', 'page': 0}), Document(page_content='India and the Contemporary World\\n26favour of one religion or another (Britain favoured the Church of\\nEngland, Austria and Spain favoured the Catholic Church). Liberals\\nalso opposed the uncontrolled power of dynastic rulers. They wanted\\nto safeguard the rights of individuals against governments. They\\nargued for a representative, elected parliamentary government, subject\\nto laws interpreted by a well-trained judiciary that was independent\\nof rulers and officials. However, they were not ‘democrats’. They\\ndid not believe in universal adult franchise, that is, the right of every\\ncitizen to vote. They felt men of property mainly should have the\\nvote. They also did not want the vote for women.\\nIn contrast, radicals wanted a nation in which government was based\\non the majority of a country’s population. Many supported women’s\\nsuffragette  movements. Unlike liberals, they opposed the privileges\\nof great landowners and wealthy factory owners. They were not\\nagainst the existence of private property but disliked concentration\\nof property in the hands of a few.\\nConservatives were opposed to radicals and liberals. After the French\\nRevolution, however, even conservatives had opened their minds to\\nthe need for change. Earlier, in the eighteenth century, conservatives\\nhad been generally opposed to the idea of change. By the nineteenth\\ncentury, they accepted that some change was inevitable but believed\\nthat the past had to be respected and change had to be brought about\\nthrough a slow process.\\nSuch differing ideas about societal change clashed during the social\\nand political turmoil that followed the French Revolution. The\\nvarious attempts at revolution and national transformation in the\\nnineteenth century helped define both the limits and potential of\\nthese political tendencies.\\n1.2 Industrial Society and Social Change\\nThese political trends were signs of a new time. It was a time of\\nprofound social and economic changes. It was a time when new cities\\ncame up and new industrialised regions developed,  railways expanded\\nand the Industrial Revolution occurred.\\nIndustrialisation brought men, women and children to factories.  Work\\nhours were often long and wages were poor. Unemployment was\\ncommon, particularly during times of low demand for industrial goods.\\nHousing and sanitation were problems since towns were growing\\nrapidly. Liberals and radicals searched for solutions to these issues.New words\\nSuffragette movement – A movement to\\ngive women the right to vote.\\nRationalised 2023-24\\n', metadata={'source': '../datasets/Social/iess302.pdf', 'page': 1}), Document(page_content='Socialism in Europe and the Russian Revolution\\n27\\nAlmost all industries were the property of individuals.  Liberals and\\nradicals themselves were often property owners and employers.\\nHaving made their wealth through trade or industrial ventures, they\\nfelt that such effort should be encouraged – that its benefits would\\nbe achieved if the workforce in the economy was healthy and citizens\\nwere educated. Opposed to the privileges the old aristocracy had by\\nbirth, they firmly believed in the value of individual effort, labour\\nand enterprise. If freedom of individuals was ensured, if the poor\\ncould labour, and those with capital could operate without restraint,\\nthey believed that societies would develop. Many working men and\\nwomen who wanted changes in the world rallied around liberal and\\nradical groups and parties in the early nineteenth century.\\nSome nationalists, liberals and radicals wanted revolutions to put an\\nend to the kind of governments established in Europe in 1815. In\\nFrance, Italy, Germany and Russia, they became revolutionaries and\\nworked to overthrow existing monarchs. Nationalists talked of\\nrevolutions that would create ‘nations’ where all citizens would haveFig.1 – The London poor in the mid-nineteenth century as seen by a\\ncontemporary.\\nFrom: Henry Mayhew, London Labour and the London Poor, 1861.\\nRationalised 2023-24\\n', metadata={'source': '../datasets/Social/iess302.pdf', 'page': 2}), Document(page_content='India and the Contemporary World\\n28Activityequal rights. After 1815, Giuseppe Mazzini, an Italian nationalist, conspired\\nwith others to achieve this in Italy. Nationalists elsewhere – including India\\n– read his writings.\\n1.3 The Coming of Socialism to Europe\\nPerhaps one of the most far-reaching visions of how society should be\\nstructured was socialism. By the mid - nineteenth century in Europe, socialism\\nwas a well-known body of ideas that attracted widespread attention.\\nSocialists were against private property, and saw it as the root of all social ills\\nof the time. Why? Individuals owned the property that gave employment\\nbut the propertied were concerned only with  personal gain and not with\\nthe welfare of those who made the property productive. So if society as a\\nwhole rather than single individuals controlled property, more attention\\nwould be paid to collective social interests. Socialists wanted this change and\\ncampaigned for it.\\nHow could a society without property operate? What would be the basis of\\nsocialist society?\\nSocialists had different visions of the future. Some believed in the idea of\\ncooperatives. Robert Owen (1771-1858), a leading English manufacturer,\\nsought to build a cooperative community called New Harmony in Indiana\\n(USA). Other socialists felt that cooperatives could not be built on a wide\\nscale onl y through indi vidual initia tive: they demanded tha t governments\\nencourage cooperatives. In France, for instance, Louis Blanc (1813-1882)\\nwanted the government to encourage cooperatives and replace capitalist\\nenterprises. These cooperatives were to be associations of people who\\nproduced goods together and divided the profits according to the work\\ndone by members.\\nKarl Marx (1818-1883) and Friedrich Engels (1820-1895) added other ideas\\nto this body of arguments. Marx argued that industrial society was ‘capitalist’.\\nCapitalists owned the capital invested in factories, and the profit of capitalists\\nwas produced by workers.  The conditions of workers could not improve\\nas long as this profit was accumulated by private capitalists. Workers had to\\noverthrow capitalism and the rule of private property. Marx believed that\\nto free themselves from capitalist exploitation, workers had to construct a\\nradically socialist society where all property was socially controlled. This\\nwould be a communist society. He was convinced that workers would\\ntriumph in their conflict with capitalists. A communist society was the natural\\nsociety of the future.List two differences between the capitalist\\nand socialist ideas of private property .\\nRationalised 2023-24\\n', metadata={'source': '../datasets/Social/iess302.pdf', 'page': 3}), Document(page_content='Socialism in Europe and the Russian Revolution\\n29Activity1.4 Support for Socialism\\nBy the 1870s, socialist ideas spread through Europe. To coordinate\\ntheir efforts, socialists formed an international body – namely, the\\nSecond International.\\nWorkers in England and Germany began forming associations to\\nfight for better living and working conditions. They set up funds to\\nhelp members in times of distress and demanded a reduction of working\\nhours and the right to v ote. In Ger many, these associa tions w orked closely\\nwith the Social Democratic Party (SPD) and helped it win parliamentary\\nseats. By 1905,  socialists and tr ade unionists f ormed a La bour P arty in\\nBritain and a Socialist Party in France. However, till 1914, socialists never\\nsucceeded in f orming a g overnment in Eur ope. Represented b y strong\\nfigures in parliamentary politics, their ideas did shape legislation, but\\ngovernments contin ued to be r un by conser v\\natives, liber als and r adicals .Imagine that a meeting has been called in\\nyour area to discuss the socialist idea of\\ndoing away with private property and\\nintroducing collective ownership. Write the\\nspeech you would make at the meeting if you\\nare:\\n/head2right a poor labourer working in the fields\\n/head2right a medium-level landowner\\n/head2right a house owner\\nFig.2 – This is a painting of the Paris Commune of 1871 (From Illustrated London News, 1871). It portray s a scene from the\\npopular uprising in Paris between March and May 1871. This was a period when the town council ( commune ) of Paris was\\ntaken over by a ‘peoples’ government’ consisting of workers, ordinary people, professionals, political activists and others.\\nThe uprising emerged against a background of growing discontent against the policies of the French state. The ‘Paris\\nCommune’ was ultimately crushed by government troops but it was celebrated by Socialists the world over as a prelude to a\\nsocialist revolution.The Paris Commune  is also popularly remembered for two important legacies: one, for its association with\\nthe workers’ red flag – that was the flag adopted by the communards ( revolutionaries) in Paris; two, for the ‘Marseillaise’,\\noriginally written as a war song in 1792, it became a symbol of the Commune and of the struggle for liberty.\\nRationalised 2023-24\\n', metadata={'source': '../datasets/Social/iess302.pdf', 'page': 4}), Document(page_content='India and the Contemporary World\\n302  The Russian Revolution\\nIn one of the least industrialised of European states this situation was\\nreversed. Socialists took over the government in Russia through the\\nOctober Revolution of 1917. The fall of monarchy in February 1917\\nand the events of October are normally called the Russian Revolution.\\nHow did this come about? What were the social and political\\nconditions in Russia when the revolution occurred? To answer these\\nquestions, let us look at Russia a few years before the revolution.\\n2.1 The Russian Empire in 19 14\\nIn 1914, Tsar Nicholas II ruled Russia and its empire. Besides the\\nterritory around Moscow, the Russian empire included current-day\\nFinland, Latvia, Lithuania, Estonia, parts of Poland, Ukraine and\\nBelarus. It stretched to the Pacific and comprised today’s Central\\nAsian states, as well as Georgia, Armenia and Azerbaijan. The majority\\nreligion was Russian Orthodox Christianity – which had grown out\\nof the Greek Orthodox Church – but the empire also  included\\nCatholics, Protestants, Muslims and Buddhists.\\nFig.3 – Tsar Nicholas II in the White\\nHall of the Winter Palace,\\nSt Petersburg, 1900.\\nPainted by Earnest Lipgart (1847-1932)\\nFig.4 – Europe in 1914.\\nThe map shows the Russian empire and the European countries at war during the First\\nWorld War.\\nRationalised 2023-24\\n', metadata={'source': '../datasets/Social/iess302.pdf', 'page': 5}), Document(page_content='Socialism in Europe and the Russian Revolution\\n312.2 Economy and Society\\nAt the beginning of the twentieth century, the vast majority of\\nRussia’s people were agriculturists. About 85 per cent of the Russian\\nempire’s population earned their living from agriculture. This\\nproportion was higher than in most European countries. For instance,\\nin France and Germany the proportion was between 40 per cent and\\n50 per cent. In the empire, cultivators produced for the market as\\nwell as for their own needs and Russia was a major exporter of grain.\\nIndustry was found in pockets. Prominent industrial areas were\\nSt Petersburg and Moscow. Craftsmen undertook much of the\\nproduction, but large factories existed alongside craft workshops.\\nMany factories were set up in the 1890s, when Russia’s railway\\nnetwork was extended, and foreign investment in industry increased.\\nCoal production doubled and iron and steel output quadrupled. By\\nthe 1900s, in some areas factory workers and craftsmen were almost\\nequal in number.\\nMost industry was the private property of industrialists. Government\\nsupervised large factories to ensure minimum wages and limited hours\\nof work. But factory inspectors could not prevent rules being broken.\\nIn craft units and small workshops, the working day was sometimes\\n15 hours, compared with 10 or 12 hours in factories. Accommodation\\nvaried from rooms to dormitories.\\nWorkers were a divided social group. Some had strong links with\\nthe villages from which they came. Others had settled in cities\\npermanently. Workers were divided by skill. A metalworker of St.\\nPetersburg recalled, ‘Metalworkers considered themselves aristocrats\\namong other workers. Their occupations demanded more training\\nand skill . . . ’ Women made up 31 per cent of the factory labour\\nforce by 1914, but they were paid less than men (between half and\\nthree-quarters of a man’s wage). Divisions among workers showed\\nthemselves in dress and manners too. Some workers formed\\nassociations to help members in times of unemployment or financial\\nhardship b ut suc h associa tions w ere few.\\nDespite divisions, workers did unite to strike work (stop work) when\\nthey disagreed with employers about dismissals or work conditions.\\nThese strikes took place  frequently in the textile industry during\\n1896-1897, and in the metal industry during 1902.\\nIn the countryside, peasants cultivated most of the land. But the\\nnobility, the crown and the Orthodox Church owned large\\nproperties. Like workers, peasants too were divided. They were also\\nFig.5 – Unemployed peasants in pre-war\\nSt Petersburg.\\nMany survived by eating at charitable\\nkitchens and living in poorhouses.\\nFig.6 – Workers sleeping in bunkers in a\\ndormitory in pre-revolutionary Russia.\\nThey slept in shifts and could not keep their\\nfamilies with them.\\nRationalised 2023-24\\n', metadata={'source': '../datasets/Social/iess302.pdf', 'page': 6}), Document(page_content='India and the Contemporary World\\n32Source A deeply religious. But except in a few cases they had no respect for the\\nnobility. Nobles got their power and position through their services\\nto the Tsar, not through local popularity. This was unlike France\\nwhere, during the French Revolution in Brittany, peasants respected\\nnobles and fought for them. In Russia, peasants wanted the land of\\nthe nobles to be given to them. Frequently, they refused to pay rent\\nand even murdered landlords. In 1902, this occurred on a large scale\\nin south Russia. And in 1905,  such incidents took place all\\nover Russia.\\nRussian peasants were different from other European peasants in\\nanother way. They pooled their land together periodically and their\\ncommune ( mir) divided it according to the needs of individual families.\\n2.3 Socialism in Russia\\nAll political parties were illegal in Russia before 1914. The Russian\\nSocial Democratic Workers Party was founded in 1898 by socialists\\nwho respected Marx’s ideas. However, because of government\\npolicing, it had to operate as an illegal organisation. It set up a\\nnewspaper, mobilised workers and organised strikes.\\nSome Russian socialists felt that the Russian peasant custom of dividing\\nland periodically made them natural socialists. So peasants, not\\nworkers, would be the main force of the revolution, and Russia could\\nbecome socialist more quickly than other countries. Socialists were\\nactive in the countryside through the late nineteenth century.  They\\nformed the Socialist Revolutionary Party in 1900. This party struggled\\nfor peasants’ rights and demanded that land belonging to nobles be\\ntransferred to peasants. Social Democrats disagreed with Socialist\\nRevolutionaries about peasants. Lenin felt that peasants were not\\none united group. Some were poor and others rich, some worked as\\nlabourers while others were capitalists who employed workers. Given\\nthis ‘differentiation’ within them, they could not all be part of a\\nsocialist movement.\\nThe party was divided over the strategy of organisation. Vladimir\\nLenin (who led the Bolshevik group) thought that in a repressive\\nsociety like Tsarist Russia the party should be disciplined and should\\ncontrol the number and quality of its members.  Others (Mensheviks)\\nthought that the party should be open to all (as in Germany).\\n2.4 A Turbulent Time: The 1905 Revolution\\nRussia was an autocracy . Unlike other European rulers, even at the\\nbeginning of the twentieth century, the Tsar was not subject toAlexander Shly apnik ov, a socialist\\nworker of the time, gives us a description\\nof how the meetings were organised:\\n‘Propaganda was done in the plants and\\nshops on an individual basis. There were\\nalso discussion circles … Legal meetings\\ntook place on matters concerning [official\\nissues], but this activity was skilfully\\nintegrated into the general struggle for\\nthe liberation of the working class. Illegal\\nmeetings were … arranged on the spur\\nof the moment but in an organised way\\nduring lunch, in evening break, in front\\nof the exit, in the y ard or , in\\nestablishments with several floors, on\\nthe stairs. The most alert workers would\\nform a “plug” in the doorw ay, and the\\nwhole mass piled up in the exit. An\\nagitator would get up right there on the\\nspot. Management would contact the\\npolice on the telephone, but the\\nspeeches would have already been\\nmade and the necessary decision taken\\nby the time they arriv ed ...’\\nAlexander Shly apnik ov, On the Eve of\\n1917. Reminiscences from the\\nRevolutionary Underground.\\nRationalised 2023-24\\n', metadata={'source': '../datasets/Social/iess302.pdf', 'page': 7}), Document(page_content='Socialism in Europe and the Russian Revolution\\n33Activityparliament. Liberals in Russia campaigned to end this state of affairs.\\nTogether with the Social Democrats and Socialist Revolutionaries,\\nthey worked with peasants and workers during the revolution of\\n1905 to demand a constitution. They were supported in the empire\\nby nationalists (in Poland for instance) and in Muslim-dominated\\nareas by jadidists  who wanted modernised Islam to lead their societies.\\nThe year 1904 was a particularly bad one for Russian workers. Prices\\nof essential goods rose so quickly that real wages  declined by 20 per\\ncent. The membership of workers’ associations rose dramatically.\\nWhen four members of the Assembly of Russian Workers, which\\nhad been formed in 1904, were dismissed at the Putilov Iron Works,\\nthere was a call for industrial action. Over the next few days over\\n110,000 workers in St Petersburg went on strike demanding a\\nreduction in the working day to eight hours, an increase in wages\\nand improvement in working conditions.\\nWhen the procession of workers led by Father Gapon reached the\\nWinter Palace it was attacked by the police and the Cossacks. Over\\n100 workers were killed and about 300 wounded. The incident,\\nknown as Bloody Sunday, started a series of events that became known\\nas the 1905 Revolution. Strikes took place all over the country and\\nuniversities closed down when student bodies staged walkouts,\\ncomplaining about the lack of civil liberties. Lawyers, doctors,\\nengineers and other middle-class workers established the Union of\\nUnions and demanded a constituent assembly.\\nDuring the 1905 Revolution, the Tsar allowed the creation of an\\nelected consultative Parliament or Duma. For a brief while during\\nthe revolution, there existed a large number of trade unions and\\nfactory committees made up of factory workers. After 1905, most\\ncommittees and unions worked unofficially, since they were declared\\nillegal. Severe restrictions were placed on political activity. The Tsar\\ndismissed the first Duma within 75 days and the re-elected second\\nDuma within three months. He did not want any questioning of his\\nauthority or any reduction in his power. He changed the voting\\nlaws and packed the third Duma with conservative politicians. Liberals\\nand revolutionaries were kept out.\\n2.5 The First World War and the Russian Empire\\nIn 1914, war broke out between two European alliances – Germany,\\nAustria and Turkey (the Central powers) and France, Britain and\\nRussia  (later Italy and Romania). Each country had a global empireNew words\\nJadidists – Muslim reformers within the\\nRussian empire\\nReal wage – Reflects the quantities of\\ngoods which the wages will actually buy.Why were there revolutionary disturbances in\\nRussia in 1905? What were the demands of\\nrevolutionaries?\\nRationalised 2023-24\\n', metadata={'source': '../datasets/Social/iess302.pdf', 'page': 8}), Document(page_content='India and the Contemporary World\\n34Activity\\nThe year is 1916. You are a general in the\\nTsar’s army on the eastern front. You are\\nwriting a report for the government in\\nMoscow . In your report suggest what you\\nthink the government should do to improve\\nthe situation.\\nFig.7 – Russian soldiers during the First\\nWorld War.\\nThe Imperial Russian army came to be known\\nas the ‘Russian steam roller’. It was the\\nlargest armed force in  the world. When this\\narmy shifted its loyalty and began supporting\\nthe revolutionaries, Tsarist power collapsed.and the war was fought outside Europe as well as\\nin Europe. This was the First World War.\\nIn Russia, the war was initially popular and people\\nrallied around Tsar Nicholas II. As the war\\ncontinued, though, the Tsar refused to consult the\\nmain parties in the Duma. Support wore thin. Anti-\\nGerman sentiments ran high,  as can be seen in the\\nrenaming of St Petersburg – a German name – as\\nPetrograd. The Tsarina Alexandra’s German\\norigins and poor advisers, especially a monk called\\nRasputin, made the autocracy unpopular.\\nThe First World War on the ‘eastern front’ differed\\nfrom that on the ‘western front’. In the west, armies\\nfought from trenches stretched along eastern\\nFrance. In the east, armies moved a good deal and\\nfought battles leaving large casualties. Defeats were\\nshocking and demoralising. Russia’s armies lost\\nbadly in Germany and Austria  between 1914 and\\n1916. There were over 7 million casualties by 1917.\\nAs they retreated, the Russian army destroyed\\ncrops and buildings to prevent the enemy from\\nbeing able to live off the land. The destruction of\\ncrops and buildings led to over 3 million refugees in Russia. The\\nsituation discredited the government and the Tsar.  Soldiers did not\\nwish to fight such a war.\\nThe war also had a severe impact on industry. Russia’s own industries\\nwere few in number and  the country was cut off from other suppliers\\nof industrial goods by German control of the Baltic Sea. Industrial\\nequipment disintegrated more rapidly in Russia than elsewhere in\\nEurope. By 1916, railway lines began to break down. Able-bodied\\nmen were called up to the war. As a result, there were labour shortages\\nand small workshops producing essentials were shut down. Large\\nsupplies of grain were sent to feed the army. For the people in the\\ncities, bread and flour  became scarce. By the winter of 1916, riots at\\nbread shops were common.\\nRationalised 2023-24\\n', metadata={'source': '../datasets/Social/iess302.pdf', 'page': 9}), Document(page_content='Socialism in Europe and the Russian Revolution\\n35In the winter of 1917, conditions in the capital, Petrograd, were grim.\\nThe layout of the city seemed to emphasise the divisions among its\\npeople. The workers’ quarters and factories were located on the right\\nbank of the River Neva. On the left bank were the fashionable areas,\\nthe Winter Palace, and official buildings, including the palace where\\nthe Duma met. In February 1917, food shortages were deeply felt in\\nthe workers’ quarters. The winter was  very cold – there had been\\nexceptional frost and heavy snow. Parliamentarians wishing to\\npreserve elected g overnment,  were opposed to the Tsar’s  desir e to dissolv e\\nthe Duma.\\nOn 22 F ebruary, a loc kout took place a t a\\nfactory on the right bank. The next day, workers\\nin fifty factories called a strike in sympathy.\\nIn many factories, women led the way to strikes.\\nThis came to be called the International Women’s\\nDay. Demonstrating workers crossed from the\\nfactory quarters to the centre of the capital – the\\nNevskii Prospekt. At this stage, no political party\\nwas actively organising the movement. As the\\nfashionable quarters and official buildings were\\nsurrounded by workers, the government imposed\\na curfew. Demonstrators dispersed by the evening,\\nbut they came back on the 24th and 25th. The\\ngovernment called out the cavalry and police to\\nkeep an eye on them.\\nOn Sunday, 25 February, the government\\nsuspended the Duma.   Politicians spoke out against\\nthe measure. Demonstrators returned in force to\\nthe streets of the left bank on the 26th. On the\\n27th, the Police Headquarters were ransacked. The\\nstreets thronged with people raising slogans about\\nbread, wages, better hours and democracy. The\\ngovernment tried to control the situation and\\ncalled out the cavalry once again. However, the\\ncavalry refused to fire on the demonstrators. An\\nofficer was shot at the barracks of a regiment and\\nthree other regiments mutinied, voting to join the\\nstriking workers.  By that evening, soldiers and3  The February Revolution in P etrograd\\nFig.8 – The Petrograd Soviet meeting in the Duma, February 1917.\\nRationalised 2023-24\\n', metadata={'source': '../datasets/Social/iess302.pdf', 'page': 10}), Document(page_content='India and the Contemporary World\\n36Box 1\\nActivitystriking workers had gathered to form a ‘soviet’ or ‘council’ in the\\nsame building as the Duma met. This was the Petrograd Soviet.\\nThe very next day, a delegation went to see the Tsar. Military\\ncommanders advised him to abdicate. He followed their advice and\\nabdicated on 2 March. Soviet leaders and Duma leaders formed a\\nProvisional Government to run the country. Russia’s future would\\nbe decided by a constituent assembly, elected on the basis of universal\\nadult suffrage. Petrograd had led the February Revolution that\\nbrought down the monarchy in February 1917.\\nWomen in the February Revolution\\n‘Women workers, often ... inspired their male co-workers … At the Lorenz telephone\\nfactory, … Marfa Vasileva almost single handedly called a successful strike. Already that\\nmorning, in celebration of Women’s Day, women workers had presented red bows to the\\nmen … Then Marfa Vasileva, a milling machine operator stopped work and declared an\\nimpromptu strike. The workers on the floor were ready to support her … The foreman\\ninformed the management and sent her a loaf of bread.  She took the bread but refused to\\ngo back to work. The administrator asked her again why she refused to work and she\\nreplied, “I cannot be the only one who is satiated when others are hungry”.  Women\\nworkers from another section of the factory gathered around Marfa in support and\\ngradually all the other women ceased working. Soon the men downed their tools as well\\nand the entire crowd rushed onto the street.’\\nFrom: Choi Chatterji,  Celebrating Women (2002).\\n3.1 After February\\nArmy officials, landowners and industrialists were influential in\\nthe Provisional Government. But the liberals as well as socialists\\namong them worked towards an elected government. Restrictions\\non public meetings and associations were removed. ‘Soviets’, like\\nthe Petrograd Soviet, were set up everywhere, though no common\\nsystem of election was followed.\\nIn April 1917, the Bolshevik leader Vladimir Lenin returned to\\nRussia from his exile. He and the Bolsheviks had opposed the war\\nsince 1914. Now he felt it was time for soviets to take over power.\\nHe declared that the war be brought to a close, land be transferred\\nto the peasants, and banks be nationalised. These three demands\\nwere Lenin’s ‘April Theses’. He also argued that the Bolshevik Party\\nrename itself the Communist Party to indicate its new radical aims.\\nMost others in the Bolshevik Party were initially surprised by the\\nApril Theses. They thought that the time was not yet ripe for aLook again at Source A and Box 1.\\n/head2rightList five changes in the mood of the\\nworkers.\\n/head2rightPlace yourself in the position of a woman\\nwho has seen both situations and write\\nan account of what has changed.\\nRationalised 2023-24\\n', metadata={'source': '../datasets/Social/iess302.pdf', 'page': 11}), Document(page_content='Socialism in Europe and the Russian Revolution\\n37socialist revolution and the Provisional Government needed to be\\nsupported. But the developments of the subsequent months changed\\ntheir attitude.\\nThrough the summer the workers’ movement spread. In industrial\\nareas, factory committees were formed  which began questioning\\nthe way industrialists ran their factories. Trade unions grew in\\nnumber. Soldiers’ committees were formed in the army. In June,\\nabout 500 Soviets sent representatives to an All Russian Congress\\nof Soviets. As the Provisional Government saw its power reduce\\nand Bolshevik influence grow, it decided to take stern measures\\nagainst the spreading discontent. It resisted attempts by workers\\nto run factories and began arresting leaders. Popular\\ndemonstrations staged by the Bolsheviks in July 1917 were sternly\\nrepressed. Many Bolshevik leaders had to go into hiding or flee.\\nMeanwhile in the countryside, peasants and their Socialist\\nRevolutionary leaders pressed for a redistribution of land. Land\\ncommittees were formed to handle this. Encouraged by the\\nSocialist Revolutionaries, peasants seized land between July and\\nSeptember 1917.\\nFig.9 – A Bolshevik image of Lenin\\naddressing workers in April 1917.\\nFig.10 – The July Days.  A pro-Bolshevik demonstration on 17 July 1917 being fired upon by the army.\\nRationalised 2023-24\\n', metadata={'source': '../datasets/Social/iess302.pdf', 'page': 12}), Document(page_content='India and the Contemporary World\\n38Box 23.2 The Revolution of October 19 17\\nAs the conflict between the Provisional Government and the\\nBolsheviks grew, Lenin feared the Provisional Government would\\nset up a dictatorship. In September, he began discussions for an\\nuprising against the government. Bolshevik supporters in the army,\\nsoviets and  factories were brought together.\\nOn 16 October 1917, Lenin persuaded the Petrograd Soviet and\\nthe Bolshevik Party to agree to a socialist seizure of power. A\\nMilitary Revolutionary Committee was appointed by the Soviet\\nunder Leon Trotskii to organise the seizure. The date of the event\\nwas kept a secret.\\nThe uprising began on 24 October. Sensing trouble, Prime Minister\\nKerenskii had left the city to summon troops. At dawn, military\\nmen loyal to the government seized the buildings of two Bolshevik\\nnewspapers. Pro-government troops were sent to take over telephone\\nand telegraph offices and protect the Winter Palace. In a swift\\nresponse, the Military Revolutionary Committee ordered its\\nsupporters to seize government offices and arrest ministers. Late in\\nthe day, the ship Aurora  shelled the Winter Palace. Other vessels\\nsailed down the Neva and took over various military points. By\\nnightfall, the city was under the committee’s control and the\\nministers had surrendered. At a meeting of the All Russian Congress\\nof Soviets in Petrograd, the majority approved the Bolshevik action.\\nUprisings took place in other cities. There was heavy fighting –\\nespecially in Moscow – but by December, the Bolsheviks controlled\\nthe Moscow-Petrograd area.\\nFig.11  – Lenin (left) and Trotskii (right) with\\nworkers at Petrograd.Date of the Russian Revolution\\nRussia followed the Julian calendar until\\n1 February 1918. The country then changed to\\nthe Gregorian calendar , which is followed\\neverywhere today . The Gregorian dates are\\n13 days ahead of the Julian dates. So by our\\ncalendar , the ‘February’  Revolution took place\\non 12th March and the ‘October’ Revolution\\ntook place on 7th November .\\nSome important dates\\n1850s -1880s\\nDebates over socialism in Russsia.\\n1898\\nFormation of the Russian Social Democratic\\nWorkers Party .\\n1905\\nThe Bloody Sunday and the Revolution of\\n1905.\\n1917\\n2nd March - Abdication of the Tsar.\\n24th October - Bolshevik unprising in\\nPetrograd.\\n1918-20\\nThe Civil W ar.\\n1919\\nFormation of Comintern.\\n1929\\nBeginning of Collectivisation.\\nRationalised 2023-24\\n', metadata={'source': '../datasets/Social/iess302.pdf', 'page': 13}), Document(page_content='Socialism in Europe and the Russian Revolution\\n394  What Changed after October?\\nThe Bolsheviks were totally opposed to private property. Most\\nindustry and banks were nationalised in November 1917. This meant\\nthat the government took over ownership and management. Land\\nwas declared social property and peasants were allowed to seize the\\nland of the nobility. In cities, Bolsheviks enforced the partition of\\nlarge houses according to family requirements. They banned the\\nuse of the old titles of aristocracy. To assert the change, new\\nuniforms were designed for the army and officials, following a\\nclothing competition organised in 1918 – when the Soviet hat\\n(budeonovka ) was chosen.\\nThe Bolshevik Party was renamed the Russian Communist Party\\n(Bolshevik). In November 1917, the Bolsheviks conducted the\\nelections to the Constituent Assembly, but they failed to gain\\nmajority support. In January 1918, the Assembly rejected Bolshevik\\nmeasures and Lenin dismissed the Assembly. He thought the All\\nRussian Congress of Soviets was more democratic than an assembly\\nelected in uncertain conditions. In March 1918, despite opposition\\nby their political allies, the Bolsheviks made peace with Germany\\nat Brest Litovsk. In the years that\\nfollowed, the Bolsheviks became\\nthe only party to participate in the\\nelections to the All Russian\\nCongress of Soviets, which became\\nthe Parliament of the country.\\nRussia became a one-party state.\\nTrade unions were kept under\\nparty control. The secret police\\n(called the Cheka first, and later\\nOGPU and NKVD) punished\\nthose who criticised the\\nBolsheviks. Many young writers\\nand artists rallied to the Party\\nbecause it stood for socialism and\\nfor change. After October 1917,\\nthis led to experiments in the arts\\nand architecture. But many became\\ndisillusioned because of the\\ncensorship the Party encouraged.\\n Fig.13 – May Day demonstration in Moscow in 1918.\\nFig.12 – A soldier wearing the Soviet hat\\n(budeonovka).\\nRationalised 2023-24\\n', metadata={'source': '../datasets/Social/iess302.pdf', 'page': 14}), Document(page_content='India and the Contemporary World\\n40Box 3\\nActivityThe October Revolution and the Russian Countryside: T wo V iews\\n‘News of the revolutionary uprising of October 25, 1917, reached the village the following day and\\nwas greeted with enthusiasm; to the peasant s it meant free land and an end to the war . ...The day\\nthe news arrived, the landowner’s manor house  was looted, his stock farms were “requisitioned”\\nand his vast orchard was cut down and sold to the peasants for wood;  all his far buildings were\\ntorn down and left in ruins while the land was distributed among the peasants who were prepared\\nto live the new Soviet life’.\\nFrom: Fedor Belov , The History of a Soviet Collective Farm\\nA member of a landowning family wrote to a relative about what happened at the estate:\\n‘The “coup” happened quite p ainlessly , quietly and peacefully . …The first days were unbearable..\\nMikhail Mikhailovich [the estate owner] was calm...The girls also…I must say the chairman\\nbehaves correctly and even politely . We were lef t two cows and two horses. The servant s tell them\\nall the time not to bother us. “Let them live. W e vouch for their safety and property . We want them\\ntreated as humanely as possible….”\\n…There are rumours that several villages are trying to evict the committees and return the estate\\nto Mikhail Mikhailovich.  I don’t know if this will happen, or if it’s good for us. But we rejoice that\\nthere is a conscience in our people...’\\n From: Serge Schmemann, Echoes of a Native Land. T wo Centuries of a Russian V illage (1997).\\n4.1 The Civil War\\nWhen the Bolsheviks ordered land redistribution, the Russian army\\nbegan to break up. Soldiers, mostly peasants, wished to go home for\\nthe redistribution and deserted. Non-Bolshevik socialists, liberals and\\nsupporters of autocracy condemned the Bolshevik uprising.  Their\\nleaders moved to south Russia and organised troops to fight the\\nBolsheviks (the ‘reds’). During 1918 and 1919, the ‘greens’ (Socialist\\nRevolutionaries) and ‘whites’ (pro-Tsarists) controlled most of the\\nRussian empire. They were backed by French, American, British\\nand Japanese troops – all those forces who were worried at the growth\\nof socialism in Russia. As these troops and the Bolsheviks fought a\\ncivil war, looting, banditry and famine became common.\\nSupporters of private property among ‘whites’ took harsh steps with\\npeasants who had seized land.  Such actions led to the loss of popular\\nsupport for the non-Bolsheviks. By January 1920, the Bolsheviks\\ncontrolled most of the former Russian empire. They succeeded dueRead the two views on the revolution in the\\ncountryside. Imagine yourself to be a witness\\nto the events. Write a short account from the\\nstandpoint of:\\n/head2rightan owner of an estate\\n/head2righta small peasant\\n/head2righta journalist\\nRationalised 2023-24\\n', metadata={'source': '../datasets/Social/iess302.pdf', 'page': 15}), Document(page_content='Socialism in Europe and the Russian Revolution\\n41Activity\\nSource Bto cooperation with non-Russian nationalities and Muslim jadidists.\\nCooperation did not work where Russian colonists themselves turned\\nBolshevik. In Khiva, in Central Asia, Bolshevik colonists brutally\\nmassacred local nationalists in the name of defending socialism. In\\nthis situation, many were confused about what the Bolshevik\\ngovernment represented.\\nPartly to remedy this, most non-Russian nationalities were given\\npolitical autonomy  in the Soviet Union (USSR) – the state the\\nBolsheviks created from the Russian empire in December 1922. But\\nsince this was combined with unpopular policies that the Bolsheviks\\nforced the local government to follow – like the harsh discouragement\\nof nomadism  – attempts to win over different nationalities were\\nonly partly successful.\\nCentral Asia of the October Revolution: Two Views\\nM.N.R oy was an Indian rev olutionary , a founder of the Mexican Communist P arty\\nand prominent Comintern leader in India, China and Europe.  He was in Central\\nAsia at the time of the civil war in the 1920s. He wrote:\\n‘The chieftain was a benevolent old man; his attendant … a youth who … spoke\\nRussian … He had heard of the R evolution, which had o verthrown the T sar and\\ndriven away the Generals who conquered the homeland of the Kirgiz. So, the\\nRevolution meant that the Kirgiz were masters of their home again.  “Long Live the\\nRevolution” shouted the Kirgiz youth who seemed to be a born Bolshevik.  The\\nwhole tribe joined. ’\\nM.N.R oy, Memoirs (1964).\\n‘The Kirghiz welcomed the first revolution (ie February Revolution) with joy and the\\nsecond revolution with consternation and terror … [This] first revolution freed them\\nfrom the oppression of the T sarist regime and strengthened their hope that …\\nautonomy would be realised. The second revolution (October Revolution) was\\naccompanied by violence, pillage, taxes and the establishment of dictatorial power\\n… Once a small group of T sarist bureaucr ats oppressed the Kirghiz. Now the same\\ngroup of people … perpetuate the same regime ... ’\\nKazakh leader in 1919, quoted in Alexander Bennigsen and Chantal Quelqueja y,\\nLes Mouvements Nationaux chez les Musulmans de Russie, (1960).Why did people in Central Asia  respond to the Russian Revolution in\\ndifferent ways?New words\\nAutonomy – The right to govern\\nthemselves\\nNomadism – Lifestyle of those who do\\nnot live in one place but move from area\\nto area to earn their living\\nSource\\nRationalised 2023-24\\n', metadata={'source': '../datasets/Social/iess302.pdf', 'page': 16}), Document(page_content='India and the Contemporary World\\n42Box 4\\nSocialist Cultivation in a Village in the Ukraine\\n‘A commune was set up using two [confiscated] farms as a base. The commune\\nconsisted of thirteen families with a total of seventy persons … The farm tools taken\\nfrom the … farms were turned over to the commune …The members ate in a communal\\ndining hall and income was divided in accordance with the principles of  “cooperative\\ncommunism”. The entire proceeds of the members’  labor , as well as all dwellings and\\nfacilities belonging to the commune were shared by the commune members.’\\n Fedor Belov,  The History of a Soviet Collective Farm (1955).\\nFig.14 – Factories came to be seen as a\\nsymbol of socialism.\\nThis poster states: ‘The smoke from the\\nchimneys is the breathing of Soviet Russia.’4.2 Making a Socialist Society\\nDuring the civil war, the Bolsheviks kept industries and banks\\nnationalised. They  permitted peasants to cultivate the land that had\\nbeen socialised. Bolsheviks used confiscated land to demonstrate what\\ncollective work could be.\\nA process of centralised planning was introduced. Officials assessed\\nhow the economy could work and set targets for a five-year period.\\nOn this basis they made the Five Year Plans. The government fixed\\nall prices to promote industrial growth during the first two ‘Plans’\\n(1927-1932 and 1933-1938). Centralised planning led to economic\\ngrowth. Industrial production increased (between 1929 and 1933 by\\n100 per cent in the case of oil, coal and steel). New factory cities\\ncame into being.\\nHowever, rapid construction led to poor working conditions. In\\nthe city of Magnitogorsk, the construction of a steel plant was achieved\\nin three years. Workers lived hard lives and the result was 550\\nstoppages of work in the first year  alone. In living quarters, ‘in the\\nwintertime, at 40 degrees below, people had to climb down from the\\nfourth floor and dash across the street in order to go to the toilet’.\\nAn extended schooling system developed, and arrangements were\\nmade for factory workers and peasants to enter universities. Crèches\\nwere established in factories for the children of women workers.\\nCheap public health care was provided. Model living quarters were\\nset up for workers. The effect of all this was uneven, though, since\\ngovernment resources were limited.\\nRationalised 2023-24\\n', metadata={'source': '../datasets/Social/iess302.pdf', 'page': 17}), Document(page_content='Socialism in Europe and the Russian Revolution\\n43Source C\\nDreams and Realities of a Soviet Childhood in 1933\\nDear grandfather Kalinin …\\nMy family is large, there are four children. W e don’ t have a father – he died, fighting\\nfor the worker’s cause, and my mother … is ailing … I want to study very much, but\\nI cannot go to school. I had some old boots, but they are completely torn and no\\none can mend them. My mother is sick, we have no money and no bread, but I want\\nto study very much. …there stands before us the task of studying, studying and\\nstudying. That is what Vladimir Ilich Lenin said. But I have to stop going to school.\\nWe have no relativ es and there is no one to help us, so I ha ve to go to work in a\\nfactory , to prevent the family from starving. Dear gr andfather , I am 13, I study well\\nand have no bad reports. I am in Class 5 …\\nLetter of 1933 from a 13-year-old worker to Kalinin, Soviet President\\nFrom:  V. Sokolov (ed),  Obshchestvo I Vlast, v 1930-ye gody (Moscow , 1997).\\nFig.17 – Factory dining hall in the 1930s.Fig.15 – Children at school in Soviet Russia in the\\n1930s.\\nThey are studying the Soviet economy.Fig.16  – A child in Magnitogorsk during the\\nFirst Five Year Plan.\\nHe is working for Soviet Russia.\\nSource\\nRationalised 2023-24\\n', metadata={'source': '../datasets/Social/iess302.pdf', 'page': 18}), Document(page_content='India and the Contemporary World\\n444.3 Stalinism and Collectivisation\\nThe period of the early Planned Economy was linked to\\nthe disasters of the collectivisation of agriculture. By 1927-\\n1928, the towns in Soviet Russia were facing an acute\\nproblem of grain supplies. The government fixed prices\\nat which grain must be sold, but the  peasants refused to sell their\\ngrain to government buyers at these prices.\\nStalin, who headed the party after the death of Lenin, introduced\\nfirm emergency measures. He believed that rich peasants and traders\\nin the countryside were holding stocks in the hope of higher prices.\\nSpeculation had to be stopped and supplies confiscated.\\nIn 1928, Party members toured the grain-producing areas, supervising\\nenforced grain collections, and raiding ‘kulaks’ –  the name for well-\\nto-do peasants. As shortages continued, the decision was taken to\\ncollectivise farms. It was argued that grain shortages were partly due\\nto the small size of holdings. After 1917, land had been  given over to\\npeasants. These small-sized peasant farms could not be modernised.\\nTo develop modern farms, and run them along industrial lines with\\nmachinery, it was necessary to ‘eliminate kulaks’, take away land\\nfrom peasants, and establish state-controlled large farms.\\nWhat followed was Stalin’s collectivisation programme. From 1929,\\nthe Party forced all peasants to cultivate in collective farms ( kolkhoz ).\\nThe bulk of land and implements were transferred to the ownership\\nof collective farms. Peasants worked on the land, and the kolkhoz\\nprofit was shared. Enraged peasants resisted the authorities and\\ndestroyed their livestock. Between 1929 and 1931, the number of\\ncattle fell by one-third. Those who resisted collectivisation were\\nseverely punished. Many were deported  and exiled . As they resisted\\ncollectivisation, peasants argued that they were not rich and they\\nwere not against socialism. They merely did not want to work in\\ncollective farms for a variety of reasons. Stalin’s government allowed\\nsome independent cultivation, but treated such cultivators\\nunsympathetically.\\nIn spite of collectivisation, production did not increase immediately.\\nIn fact, the bad harvests of 1930-1933 led to one of most devastating\\nfamines in Soviet history when over 4 million died.\\nFig.18 – A poster during collectivisation.  It\\nstates: ‘We shall strike at the kulak working for\\nthe decrease in cultivation.’\\nFig.19 – Peasant women being gathered to\\nwork in the large collective farms.New words\\nDeported – Forcibly removed from one’s own country.\\nExiled – Forced to live away from one’s own country.\\nRationalised 2023-24\\n', metadata={'source': '../datasets/Social/iess302.pdf', 'page': 19}), Document(page_content='Socialism in Europe and the Russian Revolution\\n45Source EOfficial view of the opposition to collectivisation and the government response\\n‘From the second half of F ebruary of this y ear, in v arious regions of the Ukr aine\\n… mass insurrections of the peasantry have taken place, caused by distortions\\nof the Party’s line by a section of the lower ranks of the Party and the Soviet\\napparatus in the course of the introduction of collectivisation and preparatory\\nwork for the spring harvest.\\nWithin a short time, large scale activities from the above-mentioned regions\\ncarried over into neighbouring areas – and the most aggressive insurrections\\nhave tak en place near the border .\\nThe greater part of the peasant insurrections have been linked with outright\\ndemands for the return of collectivised stocks of grain, livestock and tools …\\nBetween 1st February and 15th March, 25,000 have been arrested … 656 have\\nbeen ex ecuted, 3673 ha ve been imprisoned in labour camps and 5580 exiled … ’\\nReport of K.M. Karlson, President of the State Police Administration of the Ukraine\\nto the Centr al Committee of the Communist P arty, on 19 March 1930.\\nFrom: V . Sokolov (ed),  Obshchestvo I Vlast, v 1930-ye godySource D\\nThis is a letter written by a peasant who did not want to join the collective farm.\\nTo the newspaper Krestianskaia Gazeta  (Peasant Newspaper)\\n‘… I am a natural working peasant born in 1879 … there are 6 members in my\\nfamily , my wife w as born in 1881, m y son is 16, two daughters 19, all three go\\nto school, my sister is 71. From 1932, heavy taxes have been levied on me that\\nI have found impossible. From 1935, local authorities have increased the taxes\\non me … and I was unable to handle them and all my property was registered:\\nmy horse, cow , calf, sheep with lambs, all m y implements, furniture and m y\\nreserve of wood for repair of buildings and they sold the lot for the taxes. In\\n1936, they sold two of my buildings … the kolkhoz bought them. In 1937, of two\\nhuts I had, one w as sold and one w as confiscated … ’\\nAfanasii Dedoro vich Frebenev , an independent cultiv ator.\\nFrom: V . Sokolov (ed),  Obshchestvo I Vlast, v 1930-ye gody.Many within the Party criticised the confusion in industrial\\nproduction under the Planned Economy and the consequences of\\ncollectivisation. Stalin and his sympathisers charged these critics with\\nconspiracy against socialism. Accusations were made throughout the\\ncountry, and by 1939, over 2 million were in prisons or labour camps.\\nMost were innocent of the crimes, but no one spoke for them. A\\nlarge number were forced to make false confessions under torture\\nand were executed – several among them were talented professionals.\\nSourceSource\\nRationalised 2023-24\\n', metadata={'source': '../datasets/Social/iess302.pdf', 'page': 20}), Document(page_content='India and the Contemporary World\\n46Box 5Existing socialist parties in Europe did not wholly approve of the\\nway the Bolsheviks took power –  and kept it. However, the possibility\\nof a workers’ state fired people’s imagination across the world. In\\nmany countries, communist parties were formed – like the\\nCommunist Party of Great Britain. The Bolsheviks encouraged\\ncolonial peoples to follow their experiment. Many non-Russians from\\noutside the USSR participated in the Conference of the Peoples of\\nthe East (1920) and the Bolshevik-founded Comintern (an international\\nunion of pro-Bolshevik socialist parties). Some received education in\\nthe USSR’s Communist University of the Workers of the East. By\\nthe time of the outbreak of the Second World War, the USSR had\\ngiven socialism a global face and world stature.\\nYet by the 1950s it was acknowledged within the country that the\\nstyle of government in the USSR was not in keeping with the ideals\\nof the Russian Revolution. In the world socialist movement too it\\nwas recognised that all was not well in the Soviet Union. A backward\\ncountry had become a great power. Its industries and agriculture\\nhad developed and the poor were being fed. But it had denied the\\nessential freedoms to its citizens and carried out its developmental\\nprojects through repressive policies. By the end of the twentieth\\ncentury, the international reputation of the USSR as a socialist\\ncountry had declined though it was recognised that socialist ideals\\nstill enjoyed respect among its people. But in each country the ideas\\nof socialism were rethought in a variety of different ways.5  The Global Influence of the Russian\\nRevolution and the USSR\\nWriting about the Russian Revolution in India\\nAmong those the Russian Revolution inspired were many Indians. Several\\nattended the Communist University . By the mid-1920s the Communist Party was\\nformed in India. It s members kept in touch with the Soviet Communist Party .\\nImportant Indian political and cultural figures took an interest in the Soviet\\nexperiment and visited Russia, among them Jawaharlal Nehru and Rabindranath\\nTagore, who wrote about Soviet Socialism. In India, writings gave impressions of\\nSoviet Russia. In Hindi, R.S. Avasthi wrote in 1920-21 Russian Revolution , Lenin,\\nHis Life and His Thoughts , and later The Red Revolution  . S.D. Vidyalankar\\nwrote The Rebirth of Russia  and The Soviet State of Russia . There was much\\nthat was written in Bengali, Marathi, Malayalam, Tamil and Telugu.\\nFig.20 – Special Issue on\\nLenin of the Indo-Soviet\\nJournal.\\nIndian communists\\nmobilised support for the\\nUSSR during the Second\\nWorld War.\\nRationalised 2023-24\\n', metadata={'source': '../datasets/Social/iess302.pdf', 'page': 21}), Document(page_content='Socialism in Europe and the Russian Revolution\\n47Source GSource F\\nAn Indian arrives in Soviet Russia in 1920\\n‘For the first time in our lives, we were seeing Europeans\\nmixing freely with Asians. On seeing the Russians mingling\\nfreely with the rest of the people of the country we were\\nconvinced that we had come to a land of real equalit y.\\nWe saw freedom in its true light. In spite of their po verty,\\nimposed by the counter-revolutionaries and the imperialists,\\nthe people were more jovial and satisfied than ever before.\\nThe revolution had instilled confidence and fearlessness in\\nthem. The real brotherhood of mankind would be seen here\\namong these people of fifty different nationalities. No\\nbarriers of caste or religion hindered them from mixing freely\\nwith one another .  Every soul w as transformed into an or ator.\\nOne could see a work er, a peasant or a soldier har anguing\\nlike a professional lecturer .\\n’\\nShaukat Usmani,  Historic Trips of a Revolutionary.\\nRabindranath Tagore wrote from Russia in 1930\\n‘Moscow appears much less clean than the other\\nEuropean capitals. None of those hurrying along the\\nstreets look smart. The whole place belongs to the\\nworkers … Here the masses have not in the least been\\nput in the shade by the gentlemen … those who lived in\\nthe background for ages have come forward in the open\\ntoday … I thought of the peasants and workers in my\\nown country . It all seemed lik e the work of the Genii in\\nthe Arabian Nights. [here] only a decade ago they were\\nas illiterate, helpless and hungry as our own masses …\\nWho could be more astonished than an unfortunate Indian\\nlike myself to see how they had removed the mountain of\\nignor ance and helplessness in these few y ears’.Activity\\nCompare the passages written by Shaukat\\nUsmani and Rabindranath Tagore. Read\\nthem in relation to Sources C, D and E.\\n/head2rightWhat did Indians find impressive about\\nthe USSR ?\\n/head2rightWhat did the writers fail to notice?\\nRationalised 2023-24\\n', metadata={'source': '../datasets/Social/iess302.pdf', 'page': 22}), Document(page_content='India and the Contemporary World\\n48Questions\\n?1.What were the social, economic and political conditions in Russia before\\n1905?\\n2.In what ways was the working population in Russia different from other\\ncountries in Europe, before 1917?\\n3.Why did the Tsarist autocracy collap se in 1917?\\n4.Make two lists: one with the main events and the effects of the February\\nRevolution and the other with the main events and effects of the October\\nRevolution. Write a paragraph on who was involved in each, who were the\\nleaders and what was the imp act of each on Soviet history .\\n5.What were the main changes brought about by the Bolsheviks immediately\\nafter the October Revolution?\\n6.Write a few lines to show what you know about:\\n/head2rightkulaks\\n/head2rightthe Duma\\n/head2rightwomen workers between 1900 and 1930\\n/head2rightthe Liberals\\n/head2rightStalin’s collectivisation programme.Activities\\n1.Imagine that you are a striking worker in 1905 who is being tried in court\\nfor your act of rebellion. Draft the speech you would make in your defence.\\nAct out your speech for your class.\\n2.Write the headline and a short news item about the uprising of 24  October\\n1917 for each of the following newspapers\\n/head2righta Conservative paper in France\\n/head2righta Radical newspaper in Britain\\n/head2righta Bolshevik newspaper in Russia\\n3.Imagine that you are a middle-level wheat farmer in Russia after\\ncollectivisation. You have decided to write a letter to S talin\\nexplaining your objections to collectivisation. What would you write about\\nthe conditions of your life? What do you think would be S talin’s response\\nto such a farmer?\\nActivities\\nRationalised 2023-24\\n', metadata={'source': '../datasets/Social/iess302.pdf', 'page': 23})]\n"
     ]
    }
   ],
   "source": [
    "pdfLocation = \"../datasets/Social/iess302.pdf\"\n",
    "pdf_dir = \"../datasets/Social/\"\n",
    "loader = PyPDFDirectoryLoader(pdf_dir)\n",
    "# loader = PyPDFLoader(pdfLocation)\n",
    "data = loader.load()\n",
    "print(data)"
   ]
  },
  {
   "cell_type": "code",
   "execution_count": 12,
   "metadata": {},
   "outputs": [
    {
     "name": "stdout",
     "output_type": "stream",
     "text": [
      "Now you have 66 documents\n"
     ]
    }
   ],
   "source": [
    "text_splitter = RecursiveCharacterTextSplitter(chunk_size=1000, chunk_overlap=30)\n",
    "texts = text_splitter.split_documents(data)\n",
    "\n",
    "print (f'Now you have {len(texts)} documents')"
   ]
  },
  {
   "cell_type": "markdown",
   "metadata": {},
   "source": [
    "### Move embedding to Pinecone Index"
   ]
  },
  {
   "cell_type": "code",
   "execution_count": 13,
   "metadata": {},
   "outputs": [
    {
     "name": "stdout",
     "output_type": "stream",
     "text": [
      "Upsert Done!\n"
     ]
    }
   ],
   "source": [
    "\n",
    "ids = [f\"{i}-{texts[i].metadata['page']}\" for i in range(len(texts))]\n",
    "textList = [text.page_content for text in texts]\n",
    "embeds = embed_model.embed_documents(textList) \n",
    "metadata = [{\n",
    "    'text': text.page_content,\n",
    "         'source':text.metadata['source'],\n",
    "         'page': text.metadata['page']\n",
    "} for text in texts]\n",
    "\n",
    "index.upsert(vectors=zip(ids, embeds, metadata), show_progress=True)\n",
    "\n",
    "print('Upsert Done!')"
   ]
  },
  {
   "cell_type": "markdown",
   "metadata": {},
   "source": [
    "## Preparing LLM Pipeline"
   ]
  },
  {
   "cell_type": "code",
   "execution_count": 14,
   "metadata": {},
   "outputs": [],
   "source": [
    "\n",
    "generate_text = transformers.pipeline(\n",
    "    model=model, tokenizer=tokenizer,\n",
    "    return_full_text=True,  # langchain expects the full text\n",
    "    task='text-generation',\n",
    "    # we pass model parameters here too\n",
    "    temperature=0.0,  # 'randomness' of outputs, 0.0 is the min and 1.0 the max\n",
    "    max_new_tokens=512,  # mex number of tokens to generate in the output\n",
    "    repetition_penalty=1.1,  # without this output begins repeating\n",
    "    framework=\"pt\",\n",
    ")"
   ]
  },
  {
   "cell_type": "code",
   "execution_count": 15,
   "metadata": {},
   "outputs": [],
   "source": [
    "llm = HuggingFacePipeline(pipeline=generate_text)"
   ]
  },
  {
   "cell_type": "markdown",
   "metadata": {},
   "source": [
    "#### hf RAG Pipeline"
   ]
  },
  {
   "cell_type": "code",
   "execution_count": 16,
   "metadata": {},
   "outputs": [],
   "source": [
    "text_field = 'text'  # field in metadata that contains text content\n",
    "\n",
    "vectorstore = Pinecone(\n",
    "    index, embed_model.embed_query, text_field\n",
    ")"
   ]
  },
  {
   "cell_type": "code",
   "execution_count": 17,
   "metadata": {},
   "outputs": [
    {
     "name": "stdout",
     "output_type": "stream",
     "text": [
      "<langchain.vectorstores.pinecone.Pinecone object at 0x7f1c605c9f70>\n"
     ]
    }
   ],
   "source": [
    "query = \"What were the social, economic and political conditions in Russia before 1905?\"\n",
    "\n",
    "vectorstore.similarity_search(query, k=6)\n",
    "print(vectorstore)"
   ]
  },
  {
   "cell_type": "code",
   "execution_count": 18,
   "metadata": {},
   "outputs": [],
   "source": [
    "from langchain.chains import RetrievalQA\n",
    "\n",
    "rag_pipeline = RetrievalQA.from_chain_type(\n",
    "    llm=llm, chain_type='stuff',\n",
    "    retriever=vectorstore.as_retriever()\n",
    ")"
   ]
  },
  {
   "cell_type": "code",
   "execution_count": 19,
   "metadata": {},
   "outputs": [
    {
     "name": "stdout",
     "output_type": "stream",
     "text": [
      " Before 1905, Russia had a feudal system with a small landowning class and a large peasantry. The country was also experiencing rapid industrialization and urbanization, leading to growing social and economic disparities between the wealthy elite and the poor masses. Additionally, the government was highly autocratic and repressive, with limited political freedoms for the population. These factors contributed to the growing unrest and discontent among the people, which eventually led to the Russian Revolution in 1905.\n"
     ]
    }
   ],
   "source": [
    "content = rag_pipeline('What were the social, economic and political conditions in Russia before 1905?')\n",
    "print(content['result'])"
   ]
  },
  {
   "cell_type": "code",
   "execution_count": null,
   "metadata": {},
   "outputs": [],
   "source": []
  }
 ],
 "metadata": {
  "kernelspec": {
   "display_name": "venv",
   "language": "python",
   "name": "python3"
  },
  "language_info": {
   "codemirror_mode": {
    "name": "ipython",
    "version": 3
   },
   "file_extension": ".py",
   "mimetype": "text/x-python",
   "name": "python",
   "nbconvert_exporter": "python",
   "pygments_lexer": "ipython3",
   "version": "3.8.10"
  },
  "orig_nbformat": 4
 },
 "nbformat": 4,
 "nbformat_minor": 2
}
